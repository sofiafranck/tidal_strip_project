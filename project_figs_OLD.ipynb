{
 "cells": [
  {
   "cell_type": "code",
   "execution_count": 1,
   "id": "aa1b5d44",
   "metadata": {},
   "outputs": [],
   "source": [
    "import numpy as np \n",
    "import matplotlib.pyplot as plt\n",
    "import h5py"
   ]
  },
  {
   "cell_type": "markdown",
   "id": "e6c79e81",
   "metadata": {},
   "source": [
    "# Plotting stellar densities of satellites from Group 0 in TNG 100 files"
   ]
  },
  {
   "cell_type": "markdown",
   "id": "373f933f",
   "metadata": {},
   "source": [
    "## Satellite 1, Group 0"
   ]
  },
  {
   "cell_type": "markdown",
   "id": "05020df8",
   "metadata": {},
   "source": [
    "### Plot profile for subhalo #1 at each snapshot, also check to make sure every snapshot contains same galaxies"
   ]
  },
  {
   "cell_type": "code",
   "execution_count": 2,
   "id": "9f2bf4b7",
   "metadata": {},
   "outputs": [],
   "source": [
    "#HDF5 files \n",
    "tng_file = '/Users/sofia/Research/Data/TNG100/lr_tng100/galaxies_progmaps_lr_tng100_099.hdf5'\n",
    "#099 snapshot has a redshift of 0, so it is the most recent snapshot. Every other snapshot goes further back in time"
   ]
  },
  {
   "cell_type": "code",
   "execution_count": 3,
   "id": "78cc2d8e",
   "metadata": {},
   "outputs": [],
   "source": [
    "#grabbing information from subfile profile_star_rho_insitu_3d to use array for y-axis\n",
    "with h5py.File(tng_file,'r') as f:\n",
    "    profile_star = np.array(f['profile_star_rho_3d'])\n",
    "#need to grab information from field profile_bins for the x axis \n",
    "with h5py.File(tng_file,'r') as f:\n",
    "    profile_bins = np.array(f['profile_bins'])\n",
    "with h5py.File(tng_file,'r') as f:\n",
    "    stellar_mass = np.array(f['scalar_star_mass'])"
   ]
  },
  {
   "cell_type": "code",
   "execution_count": 4,
   "id": "a378bc3a",
   "metadata": {},
   "outputs": [],
   "source": [
    "#grab data only for galaxy 1\n",
    "profile_star_gal1 = profile_star[1]\n",
    "log_profile = np.log10(profile_star_gal1)\n",
    "profile_bins_gal1 = profile_bins[1]"
   ]
  },
  {
   "cell_type": "code",
   "execution_count": 5,
   "id": "7cf8c15b",
   "metadata": {},
   "outputs": [
    {
     "data": {
      "image/png": "[encoded data removed]",
      "text/plain": [
       "<Figure size 432x288 with 1 Axes>"
      ]
     },
     "metadata": {
      "needs_background": "light"
     },
     "output_type": "display_data"
    }
   ],
   "source": [
    "#plt.rcParams[\"figure.figsize\"] = [7.50, 3.50]\n",
    "#plt.rcParams[\"figure.autolayout\"] = True\n",
    "\n",
    "x = profile_bins_gal1\n",
    "y= log_profile\n",
    "plt.title(\"Stellar Density Profile of Galaxy 1, Snapshot 99\")\n",
    "plt.xlabel(r' Radius (kpc)')\n",
    "plt.ylabel(r'Stellar Density $(log_{10}M_{\\odot}/kpc^{3})$')\n",
    "plt.plot(x, y, markersize=10, alpha=0.9)\n",
    "#plt.savefig('sd_gal1_ss99.pdf', bbox_inches='tight')\n",
    "plt.show()\n"
   ]
  },
  {
   "cell_type": "markdown",
   "id": "4cf96f29",
   "metadata": {},
   "source": [
    "## Now to find profiles at multiple snapshots and add them to the same figure"
   ]
  },
  {
   "cell_type": "code",
   "execution_count": 6,
   "id": "3deb6a37",
   "metadata": {},
   "outputs": [],
   "source": [
    "#Finding location of 5 different snapshots\n",
    "tng_file_99 = '/Users/sofia/Research/Data/TNG100/lr_tng100/galaxies_progmaps_lr_tng100_099.hdf5'\n",
    "tng_file_72 = '/Users/sofia/Research/Data/TNG100/lr_tng100/galaxies_progmaps_lr_tng100_072.hdf5'\n",
    "tng_file_59 = '/Users/sofia/Research/Data/TNG100/lr_tng100/galaxies_progmaps_lr_tng100_059.hdf5'\n",
    "tng_file_40 = '/Users/sofia/Research/Data/TNG100/lr_tng100/galaxies_progmaps_lr_tng100_040.hdf5'\n",
    "tng_file_33 = '/Users/sofia/Research/Data/TNG100/lr_tng100/galaxies_progmaps_lr_tng100_033.hdf5'"
   ]
  },
  {
   "cell_type": "markdown",
   "id": "0c010ed0",
   "metadata": {},
   "source": [
    "### Grabbing information from Snapshot 99"
   ]
  },
  {
   "cell_type": "code",
   "execution_count": 7,
   "id": "c191b736",
   "metadata": {},
   "outputs": [],
   "source": [
    "#grabbing information from subfile profile_star_rho_insitu_3d to use array for y-axis\n",
    "with h5py.File(tng_file_99,'r') as f:\n",
    "    profile_star_99 = np.array(f['profile_star_rho_3d'])\n",
    "#need to grab information from field profile_bins for the x axis \n",
    "with h5py.File(tng_file_99,'r') as f:\n",
    "    profile_bins_99 = np.array(f['profile_bins'])\n",
    "#grabbing redshift number \n",
    "with h5py.File(tng_file_99,'r') as f:\n",
    "        z_99 = f['config'].attrs['snap_z']\n",
    "with h5py.File(tng_file_99,'r') as f:\n",
    "    stellar_mass_99 = np.array(f['scalar_star_mass'])\n",
    "    \n",
    "    \n",
    "#only want data for galaxy 1 in each snapshot\n",
    "#grab data only for galaxy 1\n",
    "profile_star_1_99 = profile_star_99[1]\n",
    "log_profile_99 = np.log10(profile_star_1_99)\n",
    "profile_bins_1_99 = profile_bins_99[1]"
   ]
  },
  {
   "cell_type": "markdown",
   "id": "7413dd27",
   "metadata": {},
   "source": [
    "### Grabbing information from Snapshot 72"
   ]
  },
  {
   "cell_type": "code",
   "execution_count": 8,
   "id": "31ac6c46",
   "metadata": {},
   "outputs": [],
   "source": [
    "#grabbing information from subfile profile_star_rho_insitu_3d to use array for y-axis\n",
    "with h5py.File(tng_file_72,'r') as f:\n",
    "    profile_star_72 = np.array(f['profile_star_rho_3d'])\n",
    "#need to grab information from field profile_bins for the x axis \n",
    "with h5py.File(tng_file_72,'r') as f:\n",
    "    profile_bins_72 = np.array(f['profile_bins'])\n",
    "#grabbing redshift number \n",
    "with h5py.File(tng_file_72,'r') as f:\n",
    "        z_72 = f['config'].attrs['snap_z']\n",
    "with h5py.File(tng_file_72,'r') as f:\n",
    "    stellar_mass_72 = np.array(f['scalar_star_mass'])\n",
    "    \n",
    "\n",
    "#only want data for galaxy 1 in each snapshot\n",
    "#grab data only for galaxy 1\n",
    "profile_star_1_72 = profile_star_72[1]\n",
    "log_profile_72 = np.log10(profile_star_1_72)\n",
    "profile_bins_1_72 = profile_bins_72[1]"
   ]
  },
  {
   "cell_type": "markdown",
   "id": "f44dbda5",
   "metadata": {},
   "source": [
    "### Grabbing information from Snapshot 59"
   ]
  },
  {
   "cell_type": "code",
   "execution_count": 9,
   "id": "e2e67d39",
   "metadata": {},
   "outputs": [],
   "source": [
    "#grabbing information from subfile profile_star_rho_insitu_3d to use array for y-axis\n",
    "with h5py.File(tng_file_59,'r') as f:\n",
    "    profile_star_59 = np.array(f['profile_star_rho_3d'])\n",
    "#need to grab information from field profile_bins for the x axis \n",
    "with h5py.File(tng_file_59,'r') as f:\n",
    "    profile_bins_59 = np.array(f['profile_bins'])\n",
    "#grabbing redshift number \n",
    "with h5py.File(tng_file_59,'r') as f:\n",
    "        z_59 = f['config'].attrs['snap_z']    \n",
    "with h5py.File(tng_file_59,'r') as f:\n",
    "    stellar_mass_59 = np.array(f['scalar_star_mass'])\n",
    "    \n",
    "    \n",
    "#only want data for galaxy 1 in each snapshot\n",
    "#grab data only for galaxy 1\n",
    "profile_star_1_59 = profile_star_59[1]\n",
    "log_profile_59 = np.log10(profile_star_1_59)\n",
    "profile_bins_1_59 = profile_bins_59[1]"
   ]
  },
  {
   "cell_type": "markdown",
   "id": "a0c71578",
   "metadata": {},
   "source": [
    "### Grabbing information from Snapshot 40"
   ]
  },
  {
   "cell_type": "code",
   "execution_count": 10,
   "id": "4224adc6",
   "metadata": {},
   "outputs": [],
   "source": [
    "#grabbing information from subfile profile_star_rho_insitu_3d to use array for y-axis\n",
    "with h5py.File(tng_file_40,'r') as f:\n",
    "    profile_star_40 = np.array(f['profile_star_rho_3d'])\n",
    "#need to grab information from field profile_bins for the x axis \n",
    "with h5py.File(tng_file_40,'r') as f:\n",
    "    profile_bins_40 = np.array(f['profile_bins'])\n",
    "#grabbing redshift number \n",
    "with h5py.File(tng_file_40,'r') as f:\n",
    "        z_40 = f['config'].attrs['snap_z']\n",
    "with h5py.File(tng_file_40,'r') as f:\n",
    "    stellar_mass_40 = np.array(f['scalar_star_mass'])\n",
    "    \n",
    "    \n",
    "#only want data for galaxy 1 in each snapshot\n",
    "#grab data only for galaxy 1\n",
    "profile_star_1_40 = profile_star_40[1]\n",
    "log_profile_40 = np.log10(profile_star_1_40)\n",
    "profile_bins_1_40 = profile_bins_40[1]"
   ]
  },
  {
   "cell_type": "markdown",
   "id": "0fbbeb91",
   "metadata": {},
   "source": [
    "### Grabbing information from Snapshot 33"
   ]
  },
  {
   "cell_type": "code",
   "execution_count": 11,
   "id": "7394c3a2",
   "metadata": {},
   "outputs": [],
   "source": [
    "#grabbing information from subfile profile_star_rho_insitu_3d to use array for y-axis\n",
    "with h5py.File(tng_file_33,'r') as f:\n",
    "    profile_star_33 = np.array(f['profile_star_rho_3d'])\n",
    "#need to grab information from field profile_bins for the x axis \n",
    "with h5py.File(tng_file_33,'r') as f:\n",
    "    profile_bins_33 = np.array(f['profile_bins'])\n",
    "#grabbing redshift number \n",
    "with h5py.File(tng_file_33,'r') as f:\n",
    "        z_33 = f['config'].attrs['snap_z']\n",
    "with h5py.File(tng_file_33,'r') as f:\n",
    "    stellar_mass_33 = np.array(f['scalar_star_mass'])\n",
    "    \n",
    "\n",
    "#only want data for galaxy 1 in each snapshot\n",
    "#grab data only for galaxy 1\n",
    "profile_star_1_33 = profile_star_33[1]\n",
    "log_profile_33 = np.log10(profile_star_1_33)\n",
    "profile_bins_1_33 = profile_bins_33[1]"
   ]
  },
  {
   "cell_type": "code",
   "execution_count": 12,
   "id": "f581bf97",
   "metadata": {},
   "outputs": [
    {
     "name": "stdout",
     "output_type": "stream",
     "text": [
      "4.66360e+10\n",
      "8.48736e+10\n",
      "3.70293e+11\n",
      "4.53428e+11\n",
      "5.58792e+11\n"
     ]
    }
   ],
   "source": [
    "print(\"{:.5e}\".format(stellar_mass_33[1]))\n",
    "print(\"{:.5e}\".format(stellar_mass_40[1]))\n",
    "print(\"{:.5e}\".format(stellar_mass_59[1]))\n",
    "print(\"{:.5e}\".format(stellar_mass_72[1]))\n",
    "print(\"{:.5e}\".format(stellar_mass_99[1]))"
   ]
  },
  {
   "cell_type": "markdown",
   "id": "ed920576",
   "metadata": {},
   "source": [
    "### Creating the figure with the data that was just pulled from the files"
   ]
  },
  {
   "cell_type": "code",
   "execution_count": 13,
   "id": "a9755ece",
   "metadata": {},
   "outputs": [
    {
     "data": {
      "image/png": "[encoded data removed]",
      "text/plain": [
       "<Figure size 432x288 with 1 Axes>"
      ]
     },
     "metadata": {
      "needs_background": "light"
     },
     "output_type": "display_data"
    }
   ],
   "source": [
    "x1_1 = profile_bins_1_33\n",
    "y1_1 = log_profile_33 \n",
    "\n",
    "x2_1 = profile_bins_1_40\n",
    "y2_1 = log_profile_40\n",
    "\n",
    "x3_1 = profile_bins_1_59\n",
    "y3_1 = log_profile_59\n",
    "\n",
    "x4_1 = profile_bins_1_72\n",
    "y4_1 = log_profile_72\n",
    "\n",
    "x5_1 = profile_bins_1_99\n",
    "y5_1 = log_profile_99\n",
    "\n",
    "\n",
    "plt.title(\"Stellar Density Profile of Satellite 1, Group 0\")\n",
    "plt.xlabel(r' Radius (kpc)')\n",
    "plt.ylabel(r'Stellar Density $(log_{10}M_{\\odot}/kpc^{3})$')\n",
    "\n",
    "#snapshot 33, redshift 9.9966\n",
    "plt.plot(x1_1, y1_1, label = z_33, markersize=10, alpha=0.9)\n",
    "\n",
    "#snapshot 40, redshift \n",
    "plt.plot(x2_1, y2_1, label = z_40, markersize=10, alpha=0.9)\n",
    "\n",
    "#snapshot 59, redshift\n",
    "plt.plot(x3_1, y3_1, label = z_59, markersize=10, alpha=0.9)\n",
    "\n",
    "#snapshot 72, redshift\n",
    "plt.plot(x4_1, y4_1, label = z_72, markersize=10, alpha=0.9)\n",
    "\n",
    "#snapshot 99, redshift \n",
    "plt.plot(x5_1, y5_1, label = z_99, markersize=10, alpha=0.9)\n",
    "\n",
    "plt.legend(loc=\"upper right\")\n",
    "plt.savefig('sd_gal1.pdf', bbox_inches='tight')\n",
    "plt.show()"
   ]
  },
  {
   "cell_type": "markdown",
   "id": "f98e6f82",
   "metadata": {},
   "source": [
    "## Satellite 2, Group 0"
   ]
  },
  {
   "cell_type": "code",
   "execution_count": 14,
   "id": "3bfb1fc8",
   "metadata": {},
   "outputs": [],
   "source": [
    "#we have already opened the files needed, now we just \n",
    "#need to pull the necessary information for the secvond satellite."
   ]
  },
  {
   "cell_type": "markdown",
   "id": "8f5b00b7",
   "metadata": {},
   "source": [
    "### Grabbing information from Snapshot 99"
   ]
  },
  {
   "cell_type": "code",
   "execution_count": 15,
   "id": "9b478c96",
   "metadata": {},
   "outputs": [],
   "source": [
    "#grab data only for galaxy 2\n",
    "profile_star_2_99 = profile_star_99[2]\n",
    "log_profile_2_99 = np.log10(profile_star_2_99)\n",
    "profile_bins_2_99 = profile_bins_99[2]"
   ]
  },
  {
   "cell_type": "markdown",
   "id": "019bcfae",
   "metadata": {},
   "source": [
    "### Grabbing information from Snapshot 72"
   ]
  },
  {
   "cell_type": "code",
   "execution_count": 16,
   "id": "d3572830",
   "metadata": {},
   "outputs": [],
   "source": [
    "#grab data only for galaxy 2\n",
    "profile_star_2_72 = profile_star_72[2]\n",
    "log_profile_2_72 = np.log10(profile_star_2_72)\n",
    "profile_bins_2_72 = profile_bins_72[2]"
   ]
  },
  {
   "cell_type": "markdown",
   "id": "e43d5fee",
   "metadata": {},
   "source": [
    "### Grabbing information from Snapshot 59"
   ]
  },
  {
   "cell_type": "code",
   "execution_count": 17,
   "id": "645e7e38",
   "metadata": {},
   "outputs": [],
   "source": [
    "#grab data only for galaxy 2\n",
    "profile_star_2_59 = profile_star_59[2]\n",
    "log_profile_2_59 = np.log10(profile_star_2_59)\n",
    "profile_bins_2_59 = profile_bins_59[2]"
   ]
  },
  {
   "cell_type": "markdown",
   "id": "0e849d30",
   "metadata": {},
   "source": [
    "### Grabbing information from Snapshot 40"
   ]
  },
  {
   "cell_type": "code",
   "execution_count": 18,
   "id": "5ffc8e25",
   "metadata": {},
   "outputs": [],
   "source": [
    "#grab data only for galaxy 2\n",
    "profile_star_2_40 = profile_star_40[2]\n",
    "log_profile_2_40 = np.log10(profile_star_2_40)\n",
    "profile_bins_2_40 = profile_bins_40[2]"
   ]
  },
  {
   "cell_type": "markdown",
   "id": "da14debe",
   "metadata": {},
   "source": [
    "### Grabbing information from Snapshot 33"
   ]
  },
  {
   "cell_type": "code",
   "execution_count": 19,
   "id": "1f51d65c",
   "metadata": {},
   "outputs": [],
   "source": [
    "#grab data only for galaxy 2\n",
    "    \n",
    "profile_star_2_33 = profile_star_33[2]\n",
    "log_profile_2_33 = np.log10(profile_star_2_33)\n",
    "profile_bins_2_33 = profile_bins_33[2]"
   ]
  },
  {
   "cell_type": "markdown",
   "id": "adf3c84e",
   "metadata": {},
   "source": [
    "### Creating the figure with the data that was just pulled from the files"
   ]
  },
  {
   "cell_type": "code",
   "execution_count": 20,
   "id": "57277adc",
   "metadata": {},
   "outputs": [
    {
     "ename": "NameError",
     "evalue": "name 'y5_2' is not defined",
     "output_type": "error",
     "traceback": [
      "\u001b[0;31m---------------------------------------------------------------------------\u001b[0m",
      "\u001b[0;31mNameError\u001b[0m                                 Traceback (most recent call last)",
      "Input \u001b[0;32mIn [20]\u001b[0m, in \u001b[0;36m<cell line: 34>\u001b[0;34m()\u001b[0m\n\u001b[1;32m     31\u001b[0m plt\u001b[38;5;241m.\u001b[39mplot(x4_2, y4_2, label \u001b[38;5;241m=\u001b[39m z_72, markersize\u001b[38;5;241m=\u001b[39m\u001b[38;5;241m10\u001b[39m, alpha\u001b[38;5;241m=\u001b[39m\u001b[38;5;241m0.9\u001b[39m)\n\u001b[1;32m     33\u001b[0m \u001b[38;5;66;03m#snapshot 99 \u001b[39;00m\n\u001b[0;32m---> 34\u001b[0m plt\u001b[38;5;241m.\u001b[39mplot(x5_2, \u001b[43my5_2\u001b[49m, label \u001b[38;5;241m=\u001b[39m z_99, markersize\u001b[38;5;241m=\u001b[39m\u001b[38;5;241m10\u001b[39m, alpha\u001b[38;5;241m=\u001b[39m\u001b[38;5;241m0.9\u001b[39m)\n\u001b[1;32m     36\u001b[0m plt\u001b[38;5;241m.\u001b[39mlegend(loc\u001b[38;5;241m=\u001b[39m\u001b[38;5;124m\"\u001b[39m\u001b[38;5;124mupper right\u001b[39m\u001b[38;5;124m\"\u001b[39m)\n\u001b[1;32m     37\u001b[0m plt\u001b[38;5;241m.\u001b[39msavefig(\u001b[38;5;124m'\u001b[39m\u001b[38;5;124msd_gal2.pdf\u001b[39m\u001b[38;5;124m'\u001b[39m, bbox_inches\u001b[38;5;241m=\u001b[39m\u001b[38;5;124m'\u001b[39m\u001b[38;5;124mtight\u001b[39m\u001b[38;5;124m'\u001b[39m)\n",
      "\u001b[0;31mNameError\u001b[0m: name 'y5_2' is not defined"
     ]
    },
    {
     "data": {
      "image/png": "[encoded data removed]",
      "text/plain": [
       "<Figure size 432x288 with 1 Axes>"
      ]
     },
     "metadata": {
      "needs_background": "light"
     },
     "output_type": "display_data"
    }
   ],
   "source": [
    "x1_2 = profile_bins_2_33\n",
    "y1_2 = log_profile_2_33 \n",
    "\n",
    "x2_2 = profile_bins_2_40\n",
    "y2_2 = log_profile_2_40\n",
    "\n",
    "x3_2 = profile_bins_2_59\n",
    "y3_2 = log_profile_2_59\n",
    "\n",
    "x4_2 = profile_bins_2_72\n",
    "y4_2 = log_profile_2_72\n",
    "\n",
    "x5_2 = profile_bins_2_99\n",
    "y52 = log_profile_2_99\n",
    "\n",
    "\n",
    "plt.title(\"Stellar Density Profile of Satellite 2, Group 0\")\n",
    "plt.xlabel(r' Radius (kpc)')\n",
    "plt.ylabel(r'Stellar Density $(log_{10}M_{\\odot}/kpc^{3})$')\n",
    "\n",
    "#snapshot 33\n",
    "plt.plot(x1_2, y1_2, label = z_33, markersize=10, alpha=0.9)\n",
    "\n",
    "#snapshot 40\n",
    "plt.plot(x2_2, y2_2, label = z_40, markersize=10, alpha=0.9)\n",
    "\n",
    "#snapshot 59\n",
    "plt.plot(x3_2, y3_2, label = z_59, markersize=10, alpha=0.9)\n",
    "\n",
    "#snapshot 72\n",
    "plt.plot(x4_2, y4_2, label = z_72, markersize=10, alpha=0.9)\n",
    "\n",
    "#snapshot 99 \n",
    "plt.plot(x5_2, y5_2, label = z_99, markersize=10, alpha=0.9)\n",
    "\n",
    "plt.legend(loc=\"upper right\")\n",
    "plt.savefig('sd_gal2.pdf', bbox_inches='tight')\n",
    "plt.show()"
   ]
  },
  {
   "cell_type": "markdown",
   "id": "7ac5253c",
   "metadata": {},
   "source": [
    "## Satellite 3, Group 0"
   ]
  },
  {
   "cell_type": "code",
   "execution_count": 21,
   "id": "8793c932",
   "metadata": {},
   "outputs": [
    {
     "ename": "SyntaxError",
     "evalue": "invalid syntax. Perhaps you forgot a comma? (1322919655.py, line 71)",
     "output_type": "error",
     "traceback": [
      "\u001b[0;36m  Input \u001b[0;32mIn [21]\u001b[0;36m\u001b[0m\n\u001b[0;31m    plt.plot(x4_3, y4,_3 label = z_72, markersize=10, alpha=0.9)\u001b[0m\n\u001b[0m                      ^\u001b[0m\n\u001b[0;31mSyntaxError\u001b[0m\u001b[0;31m:\u001b[0m invalid syntax. Perhaps you forgot a comma?\n"
     ]
    }
   ],
   "source": [
    "#we have already opened the files needed, now we just \n",
    "#need to pull the necessary information for the third satellite.\n",
    "\n",
    "### Grabbing information from Snapshot 99\n",
    "\n",
    "#grab data only for galaxy 3\n",
    "profile_star_3_99 = profile_star_99[3]\n",
    "log_profile_3_99 = np.log10(profile_star_3_99)\n",
    "profile_bins_3_99 = profile_bins_99[3]\n",
    "\n",
    "### Grabbing information from Snapshot 72\n",
    "\n",
    "#grab data only for galaxy 3\n",
    "profile_star_3_72 = profile_star_72[3]\n",
    "log_profile_3_72 = np.log10(profile_star_3_72)\n",
    "profile_bins_3_72 = profile_bins_72[3]\n",
    "\n",
    "### Grabbing information from Snapshot 59\n",
    "\n",
    "#grab data only for galaxy 3\n",
    "profile_star_3_59 = profile_star_59[3]\n",
    "log_profile_3_59 = np.log10(profile_star_3_59)\n",
    "profile_bins_3_59 = profile_bins_59[3]\n",
    "\n",
    "### Grabbing information from Snapshot 40\n",
    "\n",
    "#grab data only for galaxy 3\n",
    "profile_star_3_40 = profile_star_40[3]\n",
    "log_profile_3_40 = np.log10(profile_star_3_40)\n",
    "profile_bins_3_40 = profile_bins_40[3]\n",
    "\n",
    "### Grabbing information from Snapshot 33\n",
    "\n",
    "#grab data only for galaxy 3\n",
    "profile_star_3_33 = profile_star_33[3]\n",
    "log_profile_3_33 = np.log10(profile_star_3_33)\n",
    "profile_bins_3_33 = profile_bins_33[3]\n",
    "\n",
    "### Creating the figure with the data that was just pulled from the files\n",
    "\n",
    "x1_3 = profile_bins_3_33\n",
    "y1_3 = log_profile_3_33 \n",
    "\n",
    "x2_3 = profile_bins_3_40\n",
    "y2_3 = log_profile_3_40\n",
    "\n",
    "x3_3 = profile_bins_3_59\n",
    "y3_3 = log_profile_3_59\n",
    "\n",
    "x4_3 = profile_bins_3_72\n",
    "y4_3 = log_profile_3_72\n",
    "\n",
    "x5_3 = profile_bins_3_99\n",
    "y5_3 = log_profile_3_99\n",
    "\n",
    "\n",
    "plt.title(\"Stellar Density Profile of Satellite 3, Group 0\")\n",
    "plt.xlabel(r' Radius (kpc)')\n",
    "plt.ylabel(r'Stellar Density $(log_{10}M_{\\odot}/kpc^{3})$')\n",
    "\n",
    "#snapshot 33\n",
    "plt.plot(x1_3, y1_3, label = z_33, markersize=10, alpha=0.9)\n",
    "\n",
    "#snapshot 40\n",
    "plt.plot(x2_3, y2_3, label = z_40, markersize=10, alpha=0.9)\n",
    "\n",
    "#snapshot 59\n",
    "plt.plot(x3_3, y3_3, label = z_59, markersize=10, alpha=0.9)\n",
    "\n",
    "#snapshot 72\n",
    "plt.plot(x4_3, y4,_3 label = z_72, markersize=10, alpha=0.9)\n",
    "\n",
    "#snapshot 99 \n",
    "plt.plot(x5_3, y5_3, label = z_99, markersize=10, alpha=0.9)\n",
    "\n",
    "plt.legend(loc=\"upper right\")\n",
    "plt.savefig('sd_gal3.pdf', bbox_inches='tight')\n",
    "plt.show()"
   ]
  },
  {
   "cell_type": "markdown",
   "id": "8a66f56c",
   "metadata": {},
   "source": [
    "# Now to Look at the Central of the Group"
   ]
  },
  {
   "cell_type": "code",
   "execution_count": 22,
   "id": "0c4a456c",
   "metadata": {},
   "outputs": [
    {
     "data": {
      "image/png": "[encoded data removed]",
      "text/plain": [
       "<Figure size 432x288 with 1 Axes>"
      ]
     },
     "metadata": {
      "needs_background": "light"
     },
     "output_type": "display_data"
    }
   ],
   "source": [
    "#we have already opened the files needed, now we just \n",
    "#need to pull the necessary information for the central galaxy.\n",
    "\n",
    "### Grabbing information from Snapshot 99\n",
    "\n",
    "#grab data only for galaxy 0\n",
    "profile_star_0_99 = profile_star_99[0]\n",
    "log_profile_0_99 = np.log10(profile_star_0_99)\n",
    "profile_bins_0_99 = profile_bins_99[0]\n",
    "\n",
    "### Grabbing information from Snapshot 72\n",
    "\n",
    "#grab data only for galaxy 0\n",
    "profile_star_0_72 = profile_star_72[0]\n",
    "log_profile_0_72 = np.log10(profile_star_0_72)\n",
    "profile_bins_0_72 = profile_bins_72[0]\n",
    "\n",
    "### Grabbing information from Snapshot 59\n",
    "\n",
    "#grab data only for galaxy 0\n",
    "profile_star_0_59 = profile_star_59[0]\n",
    "log_profile_0_59 = np.log10(profile_star_0_59)\n",
    "profile_bins_0_59 = profile_bins_59[0]\n",
    "\n",
    "### Grabbing information from Snapshot 40\n",
    "\n",
    "#grab data only for galaxy 0\n",
    "profile_star_0_40 = profile_star_40[0]\n",
    "log_profile_0_40 = np.log10(profile_star_0_40)\n",
    "profile_bins_0_40 = profile_bins_40[0]\n",
    "\n",
    "### Grabbing information from Snapshot 33\n",
    "\n",
    "#grab data only for galaxy 0\n",
    "profile_star_0_33 = profile_star_33[0]\n",
    "log_profile_0_33 = np.log10(profile_star_0_33)\n",
    "profile_bins_0_33 = profile_bins_33[0]\n",
    "\n",
    "### Creating the figure with the data that was just pulled from the files\n",
    "\n",
    "x1_0 = profile_bins_0_33\n",
    "y1_0 = log_profile_0_33 \n",
    "\n",
    "x2_0 = profile_bins_0_40\n",
    "y2_0 = log_profile_0_40\n",
    "\n",
    "x3_0 = profile_bins_0_59\n",
    "y3_0 = log_profile_0_59\n",
    "\n",
    "x4_0 = profile_bins_0_72\n",
    "y4_0 = log_profile_0_72\n",
    "\n",
    "x5_0 = profile_bins_0_99\n",
    "y5_0 = log_profile_0_99\n",
    "\n",
    "\n",
    "plt.title(\"Stellar Density Profile of Central Galaxy, Group 0\")\n",
    "plt.xlabel(r' Radius (kpc)')\n",
    "plt.ylabel(r'Stellar Density $(log_{10}M_{\\odot}/kpc^{3})$')\n",
    "\n",
    "#snapshot 33\n",
    "plt.plot(x1_0, y1_0, label = z_33, markersize=10, alpha=0.9)\n",
    "\n",
    "#snapshot 40\n",
    "plt.plot(x2_0, y2_0, label = z_40, markersize=10, alpha=0.9)\n",
    "\n",
    "#snapshot 59\n",
    "plt.plot(x3_0, y3_0, label = z_59, markersize=10, alpha=0.9)\n",
    "\n",
    "#snapshot 72\n",
    "plt.plot(x4_0, y4_0, label = z_72, markersize=10, alpha=0.9)\n",
    "\n",
    "#snapshot 99 \n",
    "plt.plot(x5_0, y5_0, label = z_99, markersize=10, alpha=0.9)\n",
    "\n",
    "plt.legend(loc=\"upper right\")\n",
    "plt.savefig('sd_gal0.pdf', bbox_inches='tight')\n",
    "plt.show()"
   ]
  }
 ],
 "metadata": {
  "kernelspec": {
   "display_name": "Python 3 (ipykernel)",
   "language": "python",
   "name": "python3"
  },
  "language_info": {
   "codemirror_mode": {
    "name": "ipython",
    "version": 3
   },
   "file_extension": ".py",
   "mimetype": "text/x-python",
   "name": "python",
   "nbconvert_exporter": "python",
   "pygments_lexer": "ipython3",
   "version": "3.10.4"
  }
 },
 "nbformat": 4,
 "nbformat_minor": 5
}

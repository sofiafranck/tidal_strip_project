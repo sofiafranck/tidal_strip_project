{
 "cells": [
  {
   "cell_type": "markdown",
   "metadata": {},
   "source": [
    "## Demo to show how to get 3D profiles of galaxies in TNG\n",
    "\n",
    "### This is a demo, so I'll be showing how to do this with one galaxy. But it's obviously easily to make this work for many galaxies."
   ]
  },
  {
   "cell_type": "code",
   "execution_count": 1,
   "metadata": {},
   "outputs": [],
   "source": [
    "# basic imports\n",
    "import h5py\n",
    "import numpy as np\n",
    "import matplotlib.pyplot as plt"
   ]
  },
  {
   "cell_type": "markdown",
   "metadata": {},
   "source": [
    "### List of the names of all the snapshot files and their paths:\n",
    "\n",
    "- hr = high resolution, lr = low resolution. High resolution has more accurate info on the inner parts of the galaxies, while low resolution has better info for the outside edges of the galaxies.\n",
    "\n",
    "- I'll only be using 1 file for this demo, but I thought it'd be helpful to show you all the file names"
   ]
  },
  {
   "cell_type": "code",
   "execution_count": 9,
   "metadata": {},
   "outputs": [],
   "source": [
    "# list of files\n",
    "file_list_lr_100 = ['galaxies_progmaps_lr_tng100_099.hdf5',\n",
    "                    'galaxies_progmaps_lr_tng100_084.hdf5',\n",
    "                    'galaxies_progmaps_lr_tng100_072.hdf5', \n",
    "                    'galaxies_progmaps_lr_tng100_067.hdf5',\n",
    "                    'galaxies_progmaps_lr_tng100_059.hdf5', \n",
    "                    'galaxies_progmaps_lr_tng100_050.hdf5',\n",
    "                    'galaxies_progmaps_lr_tng100_040.hdf5',\n",
    "                    'galaxies_progmaps_lr_tng100_033.hdf5']\n",
    "\n",
    "file_list_lr_300 = ['galaxies_progmaps_lr_tng300_099.hdf5',\n",
    "                    'galaxies_progmaps_lr_tng300_084.hdf5',\n",
    "                    'galaxies_progmaps_lr_tng300_072.hdf5', \n",
    "                    'galaxies_progmaps_lr_tng300_067.hdf5',\n",
    "                    'galaxies_progmaps_lr_tng300_059.hdf5', \n",
    "                    'galaxies_progmaps_lr_tng300_050.hdf5',\n",
    "                    'galaxies_progmaps_lr_tng300_040.hdf5',\n",
    "                    'galaxies_progmaps_lr_tng300_033.hdf5',]\n",
    "\n",
    "file_list_hr_300 = ['galaxies_progmaps_lr_tng300_099.hdf5',\n",
    "                    'galaxies_progmaps_lr_tng300_084.hdf5',\n",
    "                    'galaxies_progmaps_lr_tng300_072.hdf5', \n",
    "                    'galaxies_progmaps_lr_tng300_067.hdf5',\n",
    "                    'galaxies_progmaps_lr_tng300_059.hdf5', \n",
    "                    'galaxies_progmaps_lr_tng300_050.hdf5',\n",
    "                    'galaxies_progmaps_lr_tng300_040.hdf5',\n",
    "                    'galaxies_progmaps_lr_tng300_033.hdf5',]\n",
    "\n",
    "\n",
    "file_path_100= '/Users/sofia/Research/Data/TNG100/lr_tng100/'\n",
    "file_path_300 = '/Users/sofia/Research/Data/TNG300/'\n",
    "\n",
    "# using low res data for now\n",
    "file_list = file_list_lr_300\n",
    "file_path = file_path_300"
   ]
  },
  {
   "cell_type": "markdown",
   "metadata": {},
   "source": [
    "### Grabbing basic information needed (constants, values, etc):\n",
    "\n",
    "Note that I don't use all the information grabbed below in the code, but it's still helpful for a demo."
   ]
  },
  {
   "cell_type": "code",
   "execution_count": 10,
   "metadata": {},
   "outputs": [],
   "source": [
    "# constants\n",
    "# value for h with h0 = 70 km s^-1 Mpc^-1\n",
    "h = 0.7\n",
    "box_size = 205 * 1000 #kpc\n",
    "\n",
    "# some data sets at z = 0 and some of their fields\n",
    "tng_data_099 = h5py.File(file_path + file_list[0], 'r')\n",
    "\n",
    "# basic info for z = 0 snapshot\n",
    "is_primary_099 = np.array(tng_data_099['catgrp_is_primary'])\n",
    "\n",
    "# grab trees for convenience\n",
    "tree_SnapNum = np.array(tng_data_099['tree_SnapNum'])\n",
    "tree_subfind_id = np.array(tng_data_099['tree_subfind_id'])\n",
    "\n",
    "# redshift and time lists\n",
    "redshifts = np.array(tng_data_099['info']['tree_z']) \n",
    "snaps = np.array(tng_data_099['info']['tree_snaps'])\n",
    "\n",
    "# snapshots we have and the redshifts at those snapshots\n",
    "snapshots = [99, 84, 72, 67, 59, 50, 40]\n",
    "snap_z = redshifts[snapshots]\n",
    "\n"
   ]
  },
  {
   "cell_type": "markdown",
   "metadata": {},
   "source": [
    "## Defining some functions that will be useful:"
   ]
  },
  {
   "cell_type": "markdown",
   "metadata": {},
   "source": [
    "- the function below is to find a specific galaxy across snapshots. We don't have an easily accessible set ID for each galaxy across snapshots, but have tree data instead."
   ]
  },
  {
   "cell_type": "code",
   "execution_count": 4,
   "metadata": {},
   "outputs": [],
   "source": [
    "# function written by joe to find ids of galaxies in different snapshot\n",
    "#\n",
    "# inputs: data at z=0, data at z!=0, snapshot number\n",
    "#\n",
    "def find_id(hdf0, hdf1, snapnum):\n",
    "    ids = hdf0['tree_subfind_id'][:,snapnum]\n",
    "    idx = hdf1['catsh_id'][:].argsort()\n",
    "\n",
    "    match = hdf1['catsh_id'][:].searchsorted(ids, sorter=idx)\n",
    "    goodmatch = hdf1['catsh_id'][:][idx][match]==ids\n",
    "\n",
    "    # a check to makes sure the function is working (I commented it out for now)\n",
    "    #print(np.isclose(hdf0['tree_SubhaloMassType'][:,snapnum,4][i], hdf1['scalar_star_mass'][:][idx][match][i]))\n",
    " \n",
    "    return match, goodmatch, idx\n"
   ]
  },
  {
   "cell_type": "markdown",
   "metadata": {},
   "source": [
    "- function to grab the 3d profiles from one galaxy at one snapshot. because I have to grab the data for a specific galaxy depending on if using the z=0 snapshot or not, I have to have an input \"high_z\" that tells me if z=0 (high_z = False if z=0, high_z = True if z!=0)\n",
    "- as for what data I'm actually getting:\n",
    "    - volume: volume in each \"bin\" (the galaxy is segmented into bins by radius)\n",
    "    - bins: bins themselves\n",
    "    - bound: mass within galaxy that is actually bound to galaxy\n",
    "    - bound_ins: mass bound to galaxy created insitu (created within the galaxy itself)\n",
    "    - bound_exs: mass bound to galaxy created exsitu (created outside the galaxy and found its way inside of it)\n",
    "    - oshs: mass bound to *other* subhalos (other galaxies)\n",
    "    - fuzz: mass not bound to any subhalo (any galaxy)"
   ]
  },
  {
   "cell_type": "code",
   "execution_count": 5,
   "metadata": {},
   "outputs": [],
   "source": [
    "# function to find 3d masses for any snapshot\n",
    "#\n",
    "# inputs: data at some redshift, match (either goodmatch (z=0) or match (z!=0)), index of sat at z=0\n",
    "#         high_z (False if z=0, True if z!=0)\n",
    "def find_3d_masses(tng_data_z, match, idx, sat, high_z):    \n",
    "    if high_z == False:\n",
    "        volume = np.array(tng_data_z['profile_bins_volume'])[match][sat]\n",
    "        bins = np.array(tng_data_z['profile_bins'])[match][sat]\n",
    "        \n",
    "        bound = np.array(tng_data_z['profile_star_rho_3d'])[match][sat]\n",
    "        bound_ins = np.array(tng_data_z['profile_star_rho_insitu_3d'])[match][sat]\n",
    "        bound_exs = np.array(tng_data_z['profile_star_rho_exsitu_3d'])[match][sat]\n",
    "        \n",
    "        oshs = np.array(tng_data_z['profile_star_rho_oshs_3d'])[match][sat]\n",
    "        fuzz = np.array(tng_data_z['profile_star_rho_fuzz_3d'])[match][sat]\n",
    "\n",
    "    if high_z == True:\n",
    "        volume = np.array(tng_data_z['profile_bins_volume'])[idx][match[sat]]\n",
    "        bins = np.array(tng_data_z['profile_bins'])[idx][match[sat]]\n",
    "        \n",
    "        bound = np.array(tng_data_z['profile_star_rho_3d'])[idx][match[sat]]\n",
    "        bound_ins = np.array(tng_data_z['profile_star_rho_insitu_3d'])[idx][match[sat]]\n",
    "        bound_exs = np.array(tng_data_z['profile_star_rho_exsitu_3d'])[idx][match[sat]]\n",
    "        \n",
    "        oshs = np.array(tng_data_z['profile_star_rho_oshs_3d'])[idx][match[sat]]\n",
    "        fuzz = np.array(tng_data_z['profile_star_rho_fuzz_3d'])[idx][match[sat]]\n",
    "\n",
    "    return bound, bound_ins, bound_exs, oshs, fuzz, volume, bins"
   ]
  },
  {
   "cell_type": "markdown",
   "metadata": {},
   "source": [
    "## Let's create the file instances and initial info first:\n",
    "\n",
    "Note: using a random snapshot for the demo (z=0.2)"
   ]
  },
  {
   "cell_type": "code",
   "execution_count": 17,
   "metadata": {},
   "outputs": [],
   "source": [
    "# our random snapshot (just picked index of 1)\n",
    "snap_index = 2\n",
    "snapnum = snapshots[snap_index]\n",
    "\n",
    "# instances of data at z=0 (snapshot 099) and random z (uysing snapshot at z=0.2)\n",
    "tng_data_099 = h5py.File(file_path + file_list[0], 'r')\n",
    "tng_data_z = h5py.File(file_path + file_list[snap_index], 'r')\n",
    "\n",
    "# used to match galaxies across files\n",
    "match, goodmatch, idx = find_id(tng_data_099, tng_data_z, snapnum)\n",
    "\n",
    "# matcher = goodmatch if z=0. matcher = match if z!=0\n",
    "matcher = match\n",
    "\n",
    "# high_z = False if z=0. high_z = True if z!=0\n",
    "high_z = True"
   ]
  },
  {
   "cell_type": "markdown",
   "metadata": {},
   "source": [
    "## To use the functions, we still need a sat value. Also picking one at random (let's just say 60). Then we can use the functions above:"
   ]
  },
  {
   "cell_type": "code",
   "execution_count": 20,
   "metadata": {},
   "outputs": [],
   "source": [
    "sat = 0\n",
    "\n",
    "# call find_3d_masses from above to get 3d mass info\n",
    "bound, bound_insitu, bound_exsitu, oshs, fuzz, volume, bins = find_3d_masses(tng_data_z, matcher, idx, sat, high_z)"
   ]
  },
  {
   "cell_type": "markdown",
   "metadata": {},
   "source": [
    "## Quickly check to see if did it correctly with a plot:\n",
    "\n",
    "- We also have:\n",
    "    - m10 and m100 (as well as a way to find the 2D masses at any radius)\n",
    "    - a way to find the 3D mass at any radius by integrating under the 3D data curve"
   ]
  },
  {
   "cell_type": "code",
   "execution_count": 21,
   "metadata": {},
   "outputs": [
    {
     "data": {
      "text/plain": [
       "<matplotlib.legend.Legend at 0x119456620>"
      ]
     },
     "execution_count": 21,
     "metadata": {},
     "output_type": "execute_result"
    },
    {
     "data": {
      "image/png": "[encoded data removed]",
      "text/plain": [
       "<Figure size 576x432 with 1 Axes>"
      ]
     },
     "metadata": {
      "needs_background": "light"
     },
     "output_type": "display_data"
    }
   ],
   "source": [
    "# ill be taking the log10 of an array, and that array has 0 values. so, replace 0s with NaN\n",
    "oshs = np.where(oshs == 0, np.nan, oshs)\n",
    "fuzz = np.where(fuzz == 0, np.nan, fuzz)\n",
    "\n",
    "# just a simple plot. because a demo, doesn't need to be fancy.\n",
    "plt.figure(figsize=(8,6))\n",
    "\n",
    "plt.xlabel('R (kpc)')\n",
    "plt.ylabel(r'$\\mathrm{log_{10} \\ M_{sun}}$')\n",
    "\n",
    "plt.plot(bins, np.log10(bound), label='bound')\n",
    "plt.plot(bins, np.log10(oshs), label='oshs')\n",
    "plt.plot(bins, np.log10(fuzz), label='fuzz')\n",
    "\n",
    "plt.legend()"
   ]
  },
  {
   "cell_type": "code",
   "execution_count": null,
   "metadata": {},
   "outputs": [],
   "source": []
  }
 ],
 "metadata": {
  "kernelspec": {
   "display_name": "Python 3 (ipykernel)",
   "language": "python",
   "name": "python3"
  },
  "language_info": {
   "codemirror_mode": {
    "name": "ipython",
    "version": 3
   },
   "file_extension": ".py",
   "mimetype": "text/x-python",
   "name": "python",
   "nbconvert_exporter": "python",
   "pygments_lexer": "ipython3",
   "version": "3.10.4"
  }
 },
 "nbformat": 4,
 "nbformat_minor": 2
}
